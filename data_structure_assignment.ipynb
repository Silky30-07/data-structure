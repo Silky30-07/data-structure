{
  "nbformat": 4,
  "nbformat_minor": 0,
  "metadata": {
    "colab": {
      "provenance": []
    },
    "kernelspec": {
      "name": "python3",
      "display_name": "Python 3"
    },
    "language_info": {
      "name": "python"
    }
  },
  "cells": [
    {
      "cell_type": "code",
      "execution_count": null,
      "metadata": {
        "id": "kAWB_XOgd6wa"
      },
      "outputs": [],
      "source": []
    },
    {
      "cell_type": "markdown",
      "source": [
        "**theory questions**"
      ],
      "metadata": {
        "id": "0XxDt-h3eA2Q"
      }
    },
    {
      "cell_type": "markdown",
      "source": [
        "ques 1 What are data structures, and why are they important?\n",
        "\n",
        "Data structures are formats for organizing,and storing data in a computer. They  are essential tools in computer  because they help make data processing more efficient and enable the implementation of more complex solutions.\n",
        "\n",
        "ques 2 :Explain the difference between mutable and immutable data types with example.\n",
        "\n",
        "In programing , mutable data types can be changes once created . we can modify according to our liking but immutable data type cannot be chnaged after creation. for example\n",
        "\n",
        "\n",
        "\n",
        "\n"
      ],
      "metadata": {
        "id": "QRLp7DRFeFlI"
      }
    },
    {
      "cell_type": "code",
      "source": [
        "# mutable data\n",
        "a=[\"mohit\",\"tina\",1.2,6]\n",
        "a.append(\"rahul\") # adding rahul to the list\n",
        "print(a)"
      ],
      "metadata": {
        "colab": {
          "base_uri": "https://localhost:8080/"
        },
        "id": "LhGrrDzMjibk",
        "outputId": "8fb22f51-9e6a-47d9-abc6-bbcdfac6809d"
      },
      "execution_count": null,
      "outputs": [
        {
          "output_type": "stream",
          "name": "stdout",
          "text": [
            "['mohit', 'tina', 1.2, 6, 'rahul']\n"
          ]
        }
      ]
    },
    {
      "cell_type": "code",
      "source": [
        "#immutable data\n",
        "a=(1,2,3)\n",
        "#a(o)=10  # tuples are immutable, this line causes an error\n",
        "print(a)"
      ],
      "metadata": {
        "colab": {
          "base_uri": "https://localhost:8080/",
          "height": 110
        },
        "id": "b2La34AOkL3S",
        "outputId": "ead7160a-e6b2-434b-da25-8a602a32163a"
      },
      "execution_count": null,
      "outputs": [
        {
          "output_type": "error",
          "ename": "SyntaxError",
          "evalue": "cannot assign to function call here. Maybe you meant '==' instead of '='? (<ipython-input-5-6502d77f70b6>, line 3)",
          "traceback": [
            "\u001b[0;36m  File \u001b[0;32m\"<ipython-input-5-6502d77f70b6>\"\u001b[0;36m, line \u001b[0;32m3\u001b[0m\n\u001b[0;31m    a(o)=10\u001b[0m\n\u001b[0m    ^\u001b[0m\n\u001b[0;31mSyntaxError\u001b[0m\u001b[0;31m:\u001b[0m cannot assign to function call here. Maybe you meant '==' instead of '='?\n"
          ]
        }
      ]
    },
    {
      "cell_type": "markdown",
      "source": [
        "ques 3 What are the main differences between lists and tuples in Python?\n",
        "\n",
        "difference between\tList and Tuple :\n",
        "\n",
        "* mutability = list are mutable whereas tuple are immutable , means you can make changes in list afer creation but its not possible in tuple, hence it is immutable.\n",
        "* Syntax = in list syntax\tDefined with square brackets [] and in tuple syntax\tDefined with parentheses ()\n",
        "* Performance =list are  Slower  in performance due to mutability\tbut tuple is Faster in performance due to immutability.\n",
        "* Methods =list \tSupports more methods (e.g., .append(), .remove()) but tuple support\tFewer methods (e.g., .count(), .index())\n"
      ],
      "metadata": {
        "id": "JqCZzoJCk24A"
      }
    },
    {
      "cell_type": "markdown",
      "source": [
        "ques 4  Describe how dictionaries store data?\n",
        "\n",
        "Dictionaries in python are data structures that store data as key-value pairs. Each key is unique, and it is used to put up the associated values of the key.\n",
        "\n",
        "ques 5 Why might you use a set instead of a list in Python?\n",
        "\n",
        "There are many reason to use set instead of a list such as :\n",
        "* duplication : There is no duplication of data in set .  If you need to store only unique items, a set is a better choice as it ensures there are no duplicates, while a list allows repeated values.\n",
        "* mutability : Elements in a set are immutable, you can use it to make sure that only immutable types like strings, numbers, and tuples are included , whereas in list , it allow mutable types which might not be suitable for certain cases.\n",
        "* quicker search : when it comes to searching if an item belongs to the particular data  or not  , sets show the quicker result .\n",
        "\n",
        "ques 6 What is a string in Python, and how is it different from a list ?\n",
        "\n",
        " A string is a sequence of characters, which is used to represent a text it is generally enclosed in single (') or double (\") quotes. it can consist of letters, numbers, symbols, and whitespace.  \n",
        " difference betweeen string and list:\n",
        " * element = A string can only store characters (text). Each element of a string is a character but  on the other hand , a  list can store any type of object, including strings, numbers, or other lists. It can hold a collection of different data types.\n",
        " * mutability : Once a string is created, it cannot be changed. You cannot modify individual characters of a string. but you can store everything in list and it can be changed according to the condition .\n",
        " *operations = string support operations like , concatenation (+), repetition (*), and slicing to extract parts of the text. lists support operations like  .append, .insert, .remove, and .sort .\n",
        "\n",
        "ques 7  How do tuples ensure data integrity in Python ?\n",
        "\n",
        "Tuples ensure data security due to its immutability. Once a tuple is created, its contents cannot be changed which means no items can be added, removed, or changed. once the tuple is created , the data in it remain constant throughout the program execution . Here's how tuples help ensure data security.\n",
        "\n",
        "ques 8 What is a hash table, and how does it relate to dictionaries in Python ?\n",
        "\n",
        "A hash table is a data structure used to store key-value pairs, where each key is hashed into a unique index. it convert the key into an index where the value is stored .\n",
        "The built-in dictionary is an implementation of a hash table. Here's how dictionaries in Python relate to hash tables.\n",
        "\n",
        "ques 9 Can lists contain different data types in Python ?\n",
        "\n",
        "Yes, lists can contain different data types. Python lists are heterogeneous, meaning they can store elements of different types such as  integers, strings, floats, boolean and other list as well.\n",
        "\n",
        "ques 10 Explain why strings are immutable in Python?\n",
        "\n",
        "Strings are immutable which means once a string is created, its contents cannot be changed. due to this characteristic of strings in Python it serves several important purposes such as , it work faster than other data type due to its immutability and once the string is created , the data in it remain constant throughout the program execution . Here's how string help to ensure data security.   \n",
        "\n",
        "ques 11  What advantages do dictionaries offer over lists for certain tasks?\n",
        "\n",
        "Dictionaries offer several advantages over list for certain task such as:\n",
        "\n",
        "* use of unique keys : Dictionaries's  keys are unique. If you try to insert a duplicate key, the new value will overwrite the existing value whereas the Lists allow duplicate elements, so you may end up with multiple elements of the same value, which is not ideal if you need  uniqueness.\n",
        "*faster lookup : Dictionaries are implemented using hash tables, this means that retrieving a value associated with a specific key is very fast on the other hand  lists require more  time to search for an element.\n",
        "*key value pairs : Dictionaries allow you to store key-value pair. Each key in a dictionary must be unique, and  can be accessed directly by their corresponding keys.lists, on the other hand,list store data in an ordered sequence which means  you'd need to manually track indexes.\n",
        "\n",
        "ques 12  Describe a scenario where using a tuple would be preferable over a list ?\n",
        "\n",
        "A tuple would be preferable over a list in scenarios where you need an immutable, fixed-size collection of elements. for example : you're making a list of salary of employees which you don't need to modify for longer periods . in that case tuple would be preferable since you dont want the data to be changes accidently .\n",
        "\n",
        "ques 13  How do sets handle duplicate values in Python ?\n",
        "\n",
        " A set is a collection data type that automatically removes duplicate values. This means that a set can only contain unique elements—if you attempt to add a duplicate value to a set, the set will ignore it.\n",
        "\n",
        "ques 14  How does the “in” keyword work differently for lists and dictionaries ?\n",
        "\n",
        "When you use the \"in\" keyword with a list, Python checks if the value exists in the list. It will return True if the value is found anywhere , and False if the value is not found.\n",
        "in list , the  \"in\" keyword checks for the presence of the value while in dictionaries , the \"in\" keyword checks for the presence of the key.\n",
        "\n",
        "ques 15  Can you modify the elements of a tuple? Explain why or why not .\n",
        "\n",
        "No, you cannot modify the elements of a tuple once it is created. This is because tuples are immutable in Python. Immutable means that the contents of a tuple cannot be changed after it is created.\n",
        "\n",
        "ques 16  What is a nested dictionary, and give an example of its use case.\n",
        "\n",
        "A nested dictionary  refers to a dictionary where the other values is itself another dictionary. it allow you to store multiple data at once.\n",
        "for example\n",
        "\n",
        "\n",
        "\n"
      ],
      "metadata": {
        "id": "BJwILgsXmwcG"
      }
    },
    {
      "cell_type": "code",
      "source": [
        "# Creating a nested dictionary\n",
        "inventory = {\n",
        "    'fruits': {'apple': 50,'banana': 100,'mango': 75},\n",
        "    'vegetables': {'carrot': 200,'broccoli': 150,'spinach': 300}\n",
        "}\n",
        "\n",
        "# Iterating through a nested dictionary\n",
        "for category, items in inventory.items():\n",
        "    print(f\"Category: {category}\")\n",
        "    for item, quantity in items.items():\n",
        "        print(f\"  {item}: {quantity}\")\n"
      ],
      "metadata": {
        "colab": {
          "base_uri": "https://localhost:8080/"
        },
        "id": "uqBGUjBYTKWR",
        "outputId": "37d25a77-50cf-41e1-c14e-5b93a9a47987"
      },
      "execution_count": null,
      "outputs": [
        {
          "output_type": "stream",
          "name": "stdout",
          "text": [
            "Category: fruits\n",
            "  apple: 50\n",
            "  banana: 100\n",
            "  mango: 75\n",
            "Category: vegetables\n",
            "  carrot: 200\n",
            "  broccoli: 150\n",
            "  spinach: 300\n"
          ]
        }
      ]
    },
    {
      "cell_type": "markdown",
      "source": [
        "ques 17  Describe the time complexity of accessing elements in a dictionary.\n",
        "\n",
        "dictionary operations are very efficient in practice and tend to perform in constant time under normal circumstances.\n",
        "\n",
        "Average case for access, insertion, and deletion: O(1)\n",
        "Worst case for access, insertion, and deletion: O(n)\n",
        "but this is rare and happens only due to hash collisions or resizing.\n",
        "\n",
        "ques 18  In what situations are lists preferred over dictionaries ?\n",
        "\n",
        "lists are better option than dictionaries in many situation such as :\n",
        "\n",
        "* Lists are ideal for homogeneous collections where the data items are of the same type, such as numbers, strings, or objects.\n",
        "\n",
        "*  Lists are simpler and more efficient when you only care about storing data based on position rather than a key-value association.\n",
        "\n",
        "* Lists generally use less memory than dictionaries because they don't store key-value pairs.\n",
        "\n",
        "\n",
        "ques 19  Why are dictionaries considered unordered, and how does that affect data retrieval?\n",
        "\n",
        "Dictionaries are considered unordered because,  the order of key-value pairs in a dictionary was not organised . the keys in a dictionary didn't have  any particular  order. This was because dictionaries were implemented using a hash table that did not maintain the  order of element.\n",
        "\n",
        "ques 20 Explain the difference between a list and a dictionary in terms of data retrieval ?\n",
        "\n",
        "The main difference between a list and a dictionary in terms of data retrieval lies in how you access and search for elements.\n",
        "A list is an ordered collection of elements where each element has a specific index position starting from 0. you can access each element by their index position.\n",
        "\n",
        "dictionary is a collection of key-value pairs. Each element in a dictionary has a unique key.  you can only access the element by using the key.\n"
      ],
      "metadata": {
        "id": "JPkS9X1HT6b3"
      }
    },
    {
      "cell_type": "markdown",
      "source": [
        "**pratical questions**"
      ],
      "metadata": {
        "id": "k6rTtOBaZ-OO"
      }
    },
    {
      "cell_type": "markdown",
      "source": [],
      "metadata": {
        "id": "B_VCISwkYqxz"
      }
    },
    {
      "cell_type": "code",
      "source": [
        "#ques 1  Write a code to create a string with your name and print it\n",
        "name = \"silky chauhan\"\n",
        "print(name)"
      ],
      "metadata": {
        "colab": {
          "base_uri": "https://localhost:8080/"
        },
        "id": "P-BPMC91aLD0",
        "outputId": "b43dfda3-d146-4e40-b1c2-015934019efb"
      },
      "execution_count": null,
      "outputs": [
        {
          "output_type": "stream",
          "name": "stdout",
          "text": [
            "silky chauhan\n"
          ]
        }
      ]
    },
    {
      "cell_type": "code",
      "source": [
        "#ques 2 Write a code to find the length of the string \"Hello World\"\n",
        "a=\"Hello World\"\n",
        "b=len(a)\n",
        "print(b)"
      ],
      "metadata": {
        "colab": {
          "base_uri": "https://localhost:8080/"
        },
        "id": "CSuG0muPUGz5",
        "outputId": "80e95ec0-f85f-440b-c724-9a8c894b5b1b"
      },
      "execution_count": 1,
      "outputs": [
        {
          "output_type": "stream",
          "name": "stdout",
          "text": [
            "11\n"
          ]
        }
      ]
    },
    {
      "cell_type": "code",
      "source": [
        "#ques 3  Write a code to slice the first 3 characters from the string \"Python Programming\"\n",
        "a=\"Python Programming\"\n",
        "b=a[:3]\n",
        "print(b)"
      ],
      "metadata": {
        "colab": {
          "base_uri": "https://localhost:8080/"
        },
        "id": "ETJr-E8UUqFP",
        "outputId": "4ce73ae0-eb96-4cae-cdbb-0df448a8ec49"
      },
      "execution_count": 3,
      "outputs": [
        {
          "output_type": "stream",
          "name": "stdout",
          "text": [
            "Pyt\n"
          ]
        }
      ]
    },
    {
      "cell_type": "code",
      "source": [
        "#ques 4  Write a code to convert the string \"hello\" to uppercase\n",
        "a= \"hello\"\n",
        "b=a.upper()\n",
        "print(b)"
      ],
      "metadata": {
        "colab": {
          "base_uri": "https://localhost:8080/"
        },
        "id": "kh7X1bEuU8F3",
        "outputId": "b452770a-62b9-4047-983d-d5221048eaeb"
      },
      "execution_count": 4,
      "outputs": [
        {
          "output_type": "stream",
          "name": "stdout",
          "text": [
            "HELLO\n"
          ]
        }
      ]
    },
    {
      "cell_type": "code",
      "source": [
        "# ques 5  Write a code to replace the word \"apple\" with \"orange\" in the string \"I like apple\n",
        "a=\"I like apple\"\n",
        "b=a.replace(\"apple\",\"orange\")\n",
        "print(b)"
      ],
      "metadata": {
        "colab": {
          "base_uri": "https://localhost:8080/"
        },
        "id": "4tJp3C0yVS7o",
        "outputId": "601cd703-a83a-433f-830e-2510fde92017"
      },
      "execution_count": 5,
      "outputs": [
        {
          "output_type": "stream",
          "name": "stdout",
          "text": [
            "I like orange\n"
          ]
        }
      ]
    },
    {
      "cell_type": "code",
      "source": [
        "# ques 6  Write a code to create a list with numbers 1 to 5 and print it\n",
        "a=[ 1,2,3,4,5]\n",
        "print(a)"
      ],
      "metadata": {
        "colab": {
          "base_uri": "https://localhost:8080/"
        },
        "id": "Zb-U7kZnVe78",
        "outputId": "5bba4a14-116a-43d9-fe9d-cb580b72a385"
      },
      "execution_count": 6,
      "outputs": [
        {
          "output_type": "stream",
          "name": "stdout",
          "text": [
            "[1, 2, 3, 4, 5]\n"
          ]
        }
      ]
    },
    {
      "cell_type": "code",
      "source": [
        "#ques 7  Write a code to append the number 10 to the list [1, 2, 3, 4]\n",
        "a=[1,2,3,4]\n",
        "a.append(10)\n",
        "print(a)"
      ],
      "metadata": {
        "colab": {
          "base_uri": "https://localhost:8080/"
        },
        "id": "S3g-crvBVv5O",
        "outputId": "6764c85c-9452-41e2-fe76-e8600b71970f"
      },
      "execution_count": 8,
      "outputs": [
        {
          "output_type": "stream",
          "name": "stdout",
          "text": [
            "[1, 2, 3, 4, 10]\n"
          ]
        }
      ]
    },
    {
      "cell_type": "code",
      "source": [
        "# ques 8  Write a code to remove the number 3 from the list [1, 2, 3, 4, 5]\n",
        "a = [ 1,2,3,4,5]\n",
        "a.remove(3)\n",
        "print(a)"
      ],
      "metadata": {
        "colab": {
          "base_uri": "https://localhost:8080/"
        },
        "id": "LrygruThYtoq",
        "outputId": "17eb3a2f-c184-4061-e7ae-d0308a01b1c1"
      },
      "execution_count": 9,
      "outputs": [
        {
          "output_type": "stream",
          "name": "stdout",
          "text": [
            "[1, 2, 4, 5]\n"
          ]
        }
      ]
    },
    {
      "cell_type": "code",
      "source": [
        "#ques 9  Write a code to access the second element in the list ['a', 'b', 'c', 'd']\n",
        "a=['a','b','c','d']\n",
        "b=a[1]\n",
        "print(b)"
      ],
      "metadata": {
        "colab": {
          "base_uri": "https://localhost:8080/"
        },
        "id": "duo25_Z5e9lk",
        "outputId": "437e99ea-f72a-4285-9b72-db43f9d24ee2"
      },
      "execution_count": 12,
      "outputs": [
        {
          "output_type": "stream",
          "name": "stdout",
          "text": [
            "b\n"
          ]
        }
      ]
    },
    {
      "cell_type": "code",
      "source": [
        "# ques 10  Write a code to reverse the list [10, 20, 30, 40, 50]\n",
        "a = [10,20,30,40,50]\n",
        "a.reverse()\n",
        "print(a)"
      ],
      "metadata": {
        "colab": {
          "base_uri": "https://localhost:8080/"
        },
        "id": "J9aoannkfZpu",
        "outputId": "2c7b97c3-1710-438e-d282-84c95912a6a5"
      },
      "execution_count": 13,
      "outputs": [
        {
          "output_type": "stream",
          "name": "stdout",
          "text": [
            "[50, 40, 30, 20, 10]\n"
          ]
        }
      ]
    },
    {
      "cell_type": "code",
      "source": [
        "#ques 11 Write a code to create a tuple with the elements 10, 20, 30 and print it\n",
        "tuple1=(10,20,30)\n",
        "print(tuple1)\n"
      ],
      "metadata": {
        "colab": {
          "base_uri": "https://localhost:8080/"
        },
        "id": "RFWCXoJIfuSV",
        "outputId": "2b5e76cc-14ff-4a88-f997-1faa8c220e73"
      },
      "execution_count": 15,
      "outputs": [
        {
          "output_type": "stream",
          "name": "stdout",
          "text": [
            "(10, 20, 30)\n"
          ]
        }
      ]
    },
    {
      "cell_type": "code",
      "source": [
        "#ques 12 Write a code to access the first element of the tuple ('apple', 'banana', 'cherry')\n",
        "tuple1=('apple','banana','cherry')\n",
        "print(tuple1[0])"
      ],
      "metadata": {
        "colab": {
          "base_uri": "https://localhost:8080/"
        },
        "id": "duDPdbgPgFDv",
        "outputId": "991d1206-29b2-4ec3-cf63-cf15d897913f"
      },
      "execution_count": 16,
      "outputs": [
        {
          "output_type": "stream",
          "name": "stdout",
          "text": [
            "apple\n"
          ]
        }
      ]
    },
    {
      "cell_type": "code",
      "source": [
        "#ques 13  Write a code to count how many times the number 2 appears in the tuple (1, 2, 3, 2, 4, 2).\n",
        "a=(1,2,3,2,4,2)\n",
        "b=a.count(2)\n",
        "print(b)"
      ],
      "metadata": {
        "colab": {
          "base_uri": "https://localhost:8080/"
        },
        "id": "QSYn2CyGgPjn",
        "outputId": "ed93506b-ad9c-4348-ca26-6a9125fa9566"
      },
      "execution_count": 17,
      "outputs": [
        {
          "output_type": "stream",
          "name": "stdout",
          "text": [
            "3\n"
          ]
        }
      ]
    },
    {
      "cell_type": "code",
      "source": [
        "#ques 14  Write a code to find the index of the element \"cat\" in the tuple ('dog', 'cat', 'rabbit').\n",
        "a=('dog','cat','rabbit')\n",
        "b=a.index('cat')\n",
        "print(b)"
      ],
      "metadata": {
        "colab": {
          "base_uri": "https://localhost:8080/"
        },
        "id": "caerIvefgoeV",
        "outputId": "56815f5b-f3f6-4272-eda3-64a3f0f87078"
      },
      "execution_count": 33,
      "outputs": [
        {
          "output_type": "stream",
          "name": "stdout",
          "text": [
            "1\n"
          ]
        }
      ]
    },
    {
      "cell_type": "code",
      "source": [
        "#ques 15 Write a code to check if the element \"banana\" is in the tuple ('apple', 'orange', 'banana')\n",
        "a=('apple','orange','banana')\n",
        "b='banana'in a\n",
        "print(b)"
      ],
      "metadata": {
        "colab": {
          "base_uri": "https://localhost:8080/"
        },
        "id": "nbwQYXxXinRK",
        "outputId": "19ad9b31-34e3-4db9-b4f7-6445283e591a"
      },
      "execution_count": 25,
      "outputs": [
        {
          "output_type": "stream",
          "name": "stdout",
          "text": [
            "True\n"
          ]
        }
      ]
    },
    {
      "cell_type": "code",
      "source": [
        "#ques 16  Write a code to create a set with the elements 1, 2, 3, 4, 5 and print it\n",
        "a ={1,2,3,4,5}\n",
        "print(a)"
      ],
      "metadata": {
        "colab": {
          "base_uri": "https://localhost:8080/"
        },
        "id": "crHezxAbjCnp",
        "outputId": "45de54c8-71af-4cc5-b507-a0d834b46a54"
      },
      "execution_count": 26,
      "outputs": [
        {
          "output_type": "stream",
          "name": "stdout",
          "text": [
            "{1, 2, 3, 4, 5}\n"
          ]
        }
      ]
    },
    {
      "cell_type": "code",
      "source": [
        "#ques 17  Write a code to add the element 6 to the set {1, 2, 3, 4}.\n",
        "a = {1,2,3,4}\n",
        "a.add(6)\n",
        "print(a)"
      ],
      "metadata": {
        "colab": {
          "base_uri": "https://localhost:8080/"
        },
        "id": "44J6CMI2jQn7",
        "outputId": "d04fa7cc-c076-425a-9b2f-8136655a1e00"
      },
      "execution_count": 27,
      "outputs": [
        {
          "output_type": "stream",
          "name": "stdout",
          "text": [
            "{1, 2, 3, 4, 6}\n"
          ]
        }
      ]
    },
    {
      "cell_type": "code",
      "source": [
        "# ques 18  Write a code to create a tuple with the elements 10, 20, 30 and print it.\n",
        "tup_1=(10,20,30)\n",
        "print(tup_1)"
      ],
      "metadata": {
        "colab": {
          "base_uri": "https://localhost:8080/"
        },
        "id": "xOQrGvjNjnCZ",
        "outputId": "7dbb7e94-de89-4285-dc30-ad39c22fc681"
      },
      "execution_count": 28,
      "outputs": [
        {
          "output_type": "stream",
          "name": "stdout",
          "text": [
            "(10, 20, 30)\n"
          ]
        }
      ]
    },
    {
      "cell_type": "code",
      "source": [
        "# ques 19  Write a code to access the first element of the tuple ('apple', 'banana', 'cherry').\n",
        "tup_1 = ('apple','banana','cherry')\n",
        "print(tup_1[0])"
      ],
      "metadata": {
        "colab": {
          "base_uri": "https://localhost:8080/"
        },
        "id": "9dimfRdyj7aS",
        "outputId": "a2d6bf2c-963a-41a7-9198-1d3e4035e92a"
      },
      "execution_count": 29,
      "outputs": [
        {
          "output_type": "stream",
          "name": "stdout",
          "text": [
            "apple\n"
          ]
        }
      ]
    },
    {
      "cell_type": "code",
      "source": [
        "#ques 20  Write a code to count how many times the number 2 appears in the tuple (1, 2, 3, 2, 4, 2).\n",
        "a =(1,2,3,2,4,2)\n",
        "b=a.count(2)\n",
        "print(b)"
      ],
      "metadata": {
        "colab": {
          "base_uri": "https://localhost:8080/"
        },
        "id": "Vc13s5tykJkE",
        "outputId": "7cd91a92-9354-4deb-cf50-cba8822f1181"
      },
      "execution_count": 31,
      "outputs": [
        {
          "output_type": "stream",
          "name": "stdout",
          "text": [
            "3\n"
          ]
        }
      ]
    },
    {
      "cell_type": "code",
      "source": [
        "# ques 21 Write a code to find the index of the element \"cat\" in the tuple ('dog', 'cat', 'rabbit').\n",
        "a = ('dog','cat','rabbit')\n",
        "b=a.index('cat')\n",
        "print(b)"
      ],
      "metadata": {
        "colab": {
          "base_uri": "https://localhost:8080/"
        },
        "id": "TMSRXadFkfLn",
        "outputId": "790b22f5-b27c-4d39-88e7-2be882a0f137"
      },
      "execution_count": 32,
      "outputs": [
        {
          "output_type": "stream",
          "name": "stdout",
          "text": [
            "1\n"
          ]
        }
      ]
    },
    {
      "cell_type": "code",
      "source": [
        "#ques 22  Write a code to check if the element \"banana\" is in the tuple ('apple', 'orange', 'banana')\n",
        "a = ('apple','orange','banana')\n",
        "b='banana' in a\n",
        "print(b)"
      ],
      "metadata": {
        "colab": {
          "base_uri": "https://localhost:8080/"
        },
        "id": "TY3YfCDNk04n",
        "outputId": "7b6f706e-0199-4e0c-a7ab-d7e76a7afec5"
      },
      "execution_count": 34,
      "outputs": [
        {
          "output_type": "stream",
          "name": "stdout",
          "text": [
            "True\n"
          ]
        }
      ]
    },
    {
      "cell_type": "code",
      "source": [
        "# ques 23 Write a code to create a set with the elements 1, 2, 3, 4, 5 and print it\n",
        "a = { 1,2,3,4,5 }\n",
        "print(a)"
      ],
      "metadata": {
        "colab": {
          "base_uri": "https://localhost:8080/"
        },
        "id": "dTo1GgNElEN-",
        "outputId": "67690ac3-166e-4ed0-e034-90d640e4f9fd"
      },
      "execution_count": 35,
      "outputs": [
        {
          "output_type": "stream",
          "name": "stdout",
          "text": [
            "{1, 2, 3, 4, 5}\n"
          ]
        }
      ]
    },
    {
      "cell_type": "code",
      "source": [
        "a = {1, 2, 3, 4}\n",
        "a.add(6)\n",
        "print(a)"
      ],
      "metadata": {
        "colab": {
          "base_uri": "https://localhost:8080/"
        },
        "id": "XWX6RW6PlWe9",
        "outputId": "f5bea42f-d90c-4aaf-fbdc-27d9549927ce"
      },
      "execution_count": 39,
      "outputs": [
        {
          "output_type": "stream",
          "name": "stdout",
          "text": [
            "{1, 2, 3, 4, 6}\n"
          ]
        }
      ]
    }
  ]
}